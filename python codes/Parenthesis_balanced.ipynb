{
 "cells": [
  {
   "cell_type": "code",
   "execution_count": 6,
   "metadata": {},
   "outputs": [
    {
     "ename": "ModuleNotFoundError",
     "evalue": "No module named 'STACK_using_List'",
     "output_type": "error",
     "traceback": [
      "\u001b[1;31m---------------------------------------------------------------------------\u001b[0m",
      "\u001b[1;31mModuleNotFoundError\u001b[0m                       Traceback (most recent call last)",
      "\u001b[1;32m<ipython-input-6-8b06100a44a3>\u001b[0m in \u001b[0;36m<module>\u001b[1;34m\u001b[0m\n\u001b[1;32m----> 1\u001b[1;33m \u001b[1;32mfrom\u001b[0m \u001b[0mSTACK_using_List\u001b[0m \u001b[1;32mimport\u001b[0m \u001b[0mstack\u001b[0m\u001b[1;33m\u001b[0m\u001b[1;33m\u001b[0m\u001b[0m\n\u001b[0m\u001b[0;32m      2\u001b[0m \u001b[1;32mdef\u001b[0m \u001b[0mis_match\u001b[0m\u001b[1;33m(\u001b[0m\u001b[0mp1\u001b[0m\u001b[1;33m,\u001b[0m\u001b[0mp2\u001b[0m\u001b[1;33m)\u001b[0m\u001b[1;33m:\u001b[0m\u001b[1;33m\u001b[0m\u001b[1;33m\u001b[0m\u001b[0m\n\u001b[0;32m      3\u001b[0m     \u001b[1;32mif\u001b[0m \u001b[0mp1\u001b[0m\u001b[1;33m==\u001b[0m\u001b[1;34m\"(\"\u001b[0m \u001b[1;32mand\u001b[0m \u001b[0mp2\u001b[0m\u001b[1;33m==\u001b[0m\u001b[1;34m\")\"\u001b[0m\u001b[1;33m:\u001b[0m\u001b[1;33m\u001b[0m\u001b[1;33m\u001b[0m\u001b[0m\n\u001b[0;32m      4\u001b[0m         \u001b[1;32mreturn\u001b[0m \u001b[1;32mTrue\u001b[0m\u001b[1;33m\u001b[0m\u001b[1;33m\u001b[0m\u001b[0m\n\u001b[0;32m      5\u001b[0m     \u001b[1;32melif\u001b[0m \u001b[0mp1\u001b[0m\u001b[1;33m==\u001b[0m\u001b[1;34m\"{\"\u001b[0m \u001b[1;32mand\u001b[0m \u001b[0mp2\u001b[0m\u001b[1;33m==\u001b[0m\u001b[1;34m\"}\"\u001b[0m\u001b[1;33m:\u001b[0m\u001b[1;33m\u001b[0m\u001b[1;33m\u001b[0m\u001b[0m\n",
      "\u001b[1;31mModuleNotFoundError\u001b[0m: No module named 'STACK_using_List'"
     ]
    }
   ],
   "source": [
    "from STACK_using_List import stack\n",
    "def is_match(p1,p2):\n",
    "    if p1==\"(\" and p2==\")\":\n",
    "        return True\n",
    "    elif p1==\"{\" and p2==\"}\":\n",
    "        return True\n",
    "    elif p1==\"[\" and p2==\"]\":\n",
    "        return True\n",
    "    else:\n",
    "        return False\n",
    "\n",
    "def is_parenthesis_balanced(string):\n",
    "    s=stack()\n",
    "    \n",
    "    #for checking the unbalance string like )) \n",
    "    \n",
    "    isbalnced=True\n",
    "    index=0\n",
    "    while(index<len(string) and isbalanced):\n",
    "        paren=string[index]\n",
    "        if paren in \"({{\":\n",
    "            s.push(paren)\n",
    "        else:\n",
    "            if s.isempty():\n",
    "                \n",
    "                # ex. )) i.e stack is empty  \n",
    "                isbalanced=False\n",
    "            \n",
    "            else:\n",
    "                top=s.pop()\n",
    "                if not is_match(top,paren):\n",
    "                    isbalanced=False\n",
    "        index+=1\n",
    "    if s.isempty() and isbalanced:\n",
    "        return True\n",
    "    else:\n",
    "        return False\n",
    "\n",
    "\n",
    "print(is_parenthesis_balanced(\"{{{}}}\"))\n",
    "        "
   ]
  },
  {
   "cell_type": "code",
   "execution_count": null,
   "metadata": {},
   "outputs": [],
   "source": []
  }
 ],
 "metadata": {
  "kernelspec": {
   "display_name": "Python 3",
   "language": "python",
   "name": "python3"
  },
  "language_info": {
   "codemirror_mode": {
    "name": "ipython",
    "version": 3
   },
   "file_extension": ".py",
   "mimetype": "text/x-python",
   "name": "python",
   "nbconvert_exporter": "python",
   "pygments_lexer": "ipython3",
   "version": "3.7.4"
  }
 },
 "nbformat": 4,
 "nbformat_minor": 2
}
