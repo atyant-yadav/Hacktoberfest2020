{
 "cells": [
  {
   "cell_type": "code",
   "execution_count": 9,
   "metadata": {},
   "outputs": [
    {
     "name": "stdout",
     "output_type": "stream",
     "text": [
      "abcabc\n",
      "1\n",
      "1\n",
      "3\n"
     ]
    }
   ],
   "source": [
    "def worth(input1,input2,input3):\n",
    "    length = len(input1)\n",
    "    original = input1.upper()\n",
    "    string = input1.upper()\n",
    "    turn = 1\n",
    "    for i in string:\n",
    "        temp = string[-input2:]\n",
    "        string = string.replace(' ','')[:-input2]\n",
    "        string = temp + string\n",
    "\n",
    "        if original != string:\n",
    "            turn += 1\n",
    "            temp1 = string[-input3:]\n",
    "            string = string.replace(' ','')[:-input3]\n",
    "            string = temp1 + string\n",
    "        if original == string:\n",
    "            break\n",
    "        turn += 1\n",
    "    return turn\n",
    "\n",
    "# Harry will cut 'M' alphabets from the end of the string and then add it to the beginning and will give it to Potter.\n",
    "# Then potter will also cut 'N' alphabets from the end of the string and add it to the beginning and then give to Harry.\n",
    "# This process will continue till they get the original word string back.\n",
    "\n",
    "# <------------------- INPUT -------------------->\n",
    "# input1 = Original word String\n",
    "# input2 = Value of M (no. of moves by Harry)\n",
    "# input3 = Value of N (no. of moves by Potter)\n",
    "\n",
    "# <-------------------OUTPUT ------------------>\n",
    "# find the number of turns in which they will get the original word string back.\n",
    "\n",
    "input1 = input()\n",
    "input2 = int(input())\n",
    "input3 = int(input())\n",
    "print(worth(input1,input2,input3))"
   ]
  },
  {
   "cell_type": "code",
   "execution_count": null,
   "metadata": {},
   "outputs": [],
   "source": []
  }
 ],
 "metadata": {
  "kernelspec": {
   "display_name": "Python 3",
   "language": "python",
   "name": "python3"
  },
  "language_info": {
   "codemirror_mode": {
    "name": "ipython",
    "version": 3
   },
   "file_extension": ".py",
   "mimetype": "text/x-python",
   "name": "python",
   "nbconvert_exporter": "python",
   "pygments_lexer": "ipython3",
   "version": "3.7.4"
  }
 },
 "nbformat": 4,
 "nbformat_minor": 2
}
